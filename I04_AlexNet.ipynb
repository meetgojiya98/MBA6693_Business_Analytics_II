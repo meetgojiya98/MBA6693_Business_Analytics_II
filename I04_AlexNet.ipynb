{
  "nbformat": 4,
  "nbformat_minor": 0,
  "metadata": {
    "colab": {
      "provenance": []
    },
    "kernelspec": {
      "name": "python3",
      "display_name": "Python 3"
    },
    "language_info": {
      "name": "python"
    },
    "accelerator": "GPU",
    "gpuClass": "standard",
    "widgets": {
      "application/vnd.jupyter.widget-state+json": {
        "9b96bd43932045f4bf50c983761d9d1d": {
          "model_module": "@jupyter-widgets/controls",
          "model_name": "HBoxModel",
          "model_module_version": "1.5.0",
          "state": {
            "_dom_classes": [],
            "_model_module": "@jupyter-widgets/controls",
            "_model_module_version": "1.5.0",
            "_model_name": "HBoxModel",
            "_view_count": null,
            "_view_module": "@jupyter-widgets/controls",
            "_view_module_version": "1.5.0",
            "_view_name": "HBoxView",
            "box_style": "",
            "children": [
              "IPY_MODEL_e6a27967430e439488f616b8b025d1f5",
              "IPY_MODEL_8a9cb4a0e89e4e71acf38e9feb8fcbda",
              "IPY_MODEL_5c2278fb51194cb9a8dd70ee68af9344"
            ],
            "layout": "IPY_MODEL_0b7d9aaae6a94891aa0c151d20036194"
          }
        },
        "e6a27967430e439488f616b8b025d1f5": {
          "model_module": "@jupyter-widgets/controls",
          "model_name": "HTMLModel",
          "model_module_version": "1.5.0",
          "state": {
            "_dom_classes": [],
            "_model_module": "@jupyter-widgets/controls",
            "_model_module_version": "1.5.0",
            "_model_name": "HTMLModel",
            "_view_count": null,
            "_view_module": "@jupyter-widgets/controls",
            "_view_module_version": "1.5.0",
            "_view_name": "HTMLView",
            "description": "",
            "description_tooltip": null,
            "layout": "IPY_MODEL_c7eb63ba8de14ceb9cbcee34a6ac9ff5",
            "placeholder": "​",
            "style": "IPY_MODEL_16e5cfe498194909bb35064b5602d5b9",
            "value": "100%"
          }
        },
        "8a9cb4a0e89e4e71acf38e9feb8fcbda": {
          "model_module": "@jupyter-widgets/controls",
          "model_name": "FloatProgressModel",
          "model_module_version": "1.5.0",
          "state": {
            "_dom_classes": [],
            "_model_module": "@jupyter-widgets/controls",
            "_model_module_version": "1.5.0",
            "_model_name": "FloatProgressModel",
            "_view_count": null,
            "_view_module": "@jupyter-widgets/controls",
            "_view_module_version": "1.5.0",
            "_view_name": "ProgressView",
            "bar_style": "success",
            "description": "",
            "description_tooltip": null,
            "layout": "IPY_MODEL_a2f2cfe743c34f73894eeb424f3d8c1c",
            "max": 170498071,
            "min": 0,
            "orientation": "horizontal",
            "style": "IPY_MODEL_4609b208778147049c95d841ad59875c",
            "value": 170498071
          }
        },
        "5c2278fb51194cb9a8dd70ee68af9344": {
          "model_module": "@jupyter-widgets/controls",
          "model_name": "HTMLModel",
          "model_module_version": "1.5.0",
          "state": {
            "_dom_classes": [],
            "_model_module": "@jupyter-widgets/controls",
            "_model_module_version": "1.5.0",
            "_model_name": "HTMLModel",
            "_view_count": null,
            "_view_module": "@jupyter-widgets/controls",
            "_view_module_version": "1.5.0",
            "_view_name": "HTMLView",
            "description": "",
            "description_tooltip": null,
            "layout": "IPY_MODEL_0bebfd4df1fd49f3820fd41dbda75cee",
            "placeholder": "​",
            "style": "IPY_MODEL_189e6a62cec34850944bff55cda7103c",
            "value": " 170498071/170498071 [00:12&lt;00:00, 14920181.86it/s]"
          }
        },
        "0b7d9aaae6a94891aa0c151d20036194": {
          "model_module": "@jupyter-widgets/base",
          "model_name": "LayoutModel",
          "model_module_version": "1.2.0",
          "state": {
            "_model_module": "@jupyter-widgets/base",
            "_model_module_version": "1.2.0",
            "_model_name": "LayoutModel",
            "_view_count": null,
            "_view_module": "@jupyter-widgets/base",
            "_view_module_version": "1.2.0",
            "_view_name": "LayoutView",
            "align_content": null,
            "align_items": null,
            "align_self": null,
            "border": null,
            "bottom": null,
            "display": null,
            "flex": null,
            "flex_flow": null,
            "grid_area": null,
            "grid_auto_columns": null,
            "grid_auto_flow": null,
            "grid_auto_rows": null,
            "grid_column": null,
            "grid_gap": null,
            "grid_row": null,
            "grid_template_areas": null,
            "grid_template_columns": null,
            "grid_template_rows": null,
            "height": null,
            "justify_content": null,
            "justify_items": null,
            "left": null,
            "margin": null,
            "max_height": null,
            "max_width": null,
            "min_height": null,
            "min_width": null,
            "object_fit": null,
            "object_position": null,
            "order": null,
            "overflow": null,
            "overflow_x": null,
            "overflow_y": null,
            "padding": null,
            "right": null,
            "top": null,
            "visibility": null,
            "width": null
          }
        },
        "c7eb63ba8de14ceb9cbcee34a6ac9ff5": {
          "model_module": "@jupyter-widgets/base",
          "model_name": "LayoutModel",
          "model_module_version": "1.2.0",
          "state": {
            "_model_module": "@jupyter-widgets/base",
            "_model_module_version": "1.2.0",
            "_model_name": "LayoutModel",
            "_view_count": null,
            "_view_module": "@jupyter-widgets/base",
            "_view_module_version": "1.2.0",
            "_view_name": "LayoutView",
            "align_content": null,
            "align_items": null,
            "align_self": null,
            "border": null,
            "bottom": null,
            "display": null,
            "flex": null,
            "flex_flow": null,
            "grid_area": null,
            "grid_auto_columns": null,
            "grid_auto_flow": null,
            "grid_auto_rows": null,
            "grid_column": null,
            "grid_gap": null,
            "grid_row": null,
            "grid_template_areas": null,
            "grid_template_columns": null,
            "grid_template_rows": null,
            "height": null,
            "justify_content": null,
            "justify_items": null,
            "left": null,
            "margin": null,
            "max_height": null,
            "max_width": null,
            "min_height": null,
            "min_width": null,
            "object_fit": null,
            "object_position": null,
            "order": null,
            "overflow": null,
            "overflow_x": null,
            "overflow_y": null,
            "padding": null,
            "right": null,
            "top": null,
            "visibility": null,
            "width": null
          }
        },
        "16e5cfe498194909bb35064b5602d5b9": {
          "model_module": "@jupyter-widgets/controls",
          "model_name": "DescriptionStyleModel",
          "model_module_version": "1.5.0",
          "state": {
            "_model_module": "@jupyter-widgets/controls",
            "_model_module_version": "1.5.0",
            "_model_name": "DescriptionStyleModel",
            "_view_count": null,
            "_view_module": "@jupyter-widgets/base",
            "_view_module_version": "1.2.0",
            "_view_name": "StyleView",
            "description_width": ""
          }
        },
        "a2f2cfe743c34f73894eeb424f3d8c1c": {
          "model_module": "@jupyter-widgets/base",
          "model_name": "LayoutModel",
          "model_module_version": "1.2.0",
          "state": {
            "_model_module": "@jupyter-widgets/base",
            "_model_module_version": "1.2.0",
            "_model_name": "LayoutModel",
            "_view_count": null,
            "_view_module": "@jupyter-widgets/base",
            "_view_module_version": "1.2.0",
            "_view_name": "LayoutView",
            "align_content": null,
            "align_items": null,
            "align_self": null,
            "border": null,
            "bottom": null,
            "display": null,
            "flex": null,
            "flex_flow": null,
            "grid_area": null,
            "grid_auto_columns": null,
            "grid_auto_flow": null,
            "grid_auto_rows": null,
            "grid_column": null,
            "grid_gap": null,
            "grid_row": null,
            "grid_template_areas": null,
            "grid_template_columns": null,
            "grid_template_rows": null,
            "height": null,
            "justify_content": null,
            "justify_items": null,
            "left": null,
            "margin": null,
            "max_height": null,
            "max_width": null,
            "min_height": null,
            "min_width": null,
            "object_fit": null,
            "object_position": null,
            "order": null,
            "overflow": null,
            "overflow_x": null,
            "overflow_y": null,
            "padding": null,
            "right": null,
            "top": null,
            "visibility": null,
            "width": null
          }
        },
        "4609b208778147049c95d841ad59875c": {
          "model_module": "@jupyter-widgets/controls",
          "model_name": "ProgressStyleModel",
          "model_module_version": "1.5.0",
          "state": {
            "_model_module": "@jupyter-widgets/controls",
            "_model_module_version": "1.5.0",
            "_model_name": "ProgressStyleModel",
            "_view_count": null,
            "_view_module": "@jupyter-widgets/base",
            "_view_module_version": "1.2.0",
            "_view_name": "StyleView",
            "bar_color": null,
            "description_width": ""
          }
        },
        "0bebfd4df1fd49f3820fd41dbda75cee": {
          "model_module": "@jupyter-widgets/base",
          "model_name": "LayoutModel",
          "model_module_version": "1.2.0",
          "state": {
            "_model_module": "@jupyter-widgets/base",
            "_model_module_version": "1.2.0",
            "_model_name": "LayoutModel",
            "_view_count": null,
            "_view_module": "@jupyter-widgets/base",
            "_view_module_version": "1.2.0",
            "_view_name": "LayoutView",
            "align_content": null,
            "align_items": null,
            "align_self": null,
            "border": null,
            "bottom": null,
            "display": null,
            "flex": null,
            "flex_flow": null,
            "grid_area": null,
            "grid_auto_columns": null,
            "grid_auto_flow": null,
            "grid_auto_rows": null,
            "grid_column": null,
            "grid_gap": null,
            "grid_row": null,
            "grid_template_areas": null,
            "grid_template_columns": null,
            "grid_template_rows": null,
            "height": null,
            "justify_content": null,
            "justify_items": null,
            "left": null,
            "margin": null,
            "max_height": null,
            "max_width": null,
            "min_height": null,
            "min_width": null,
            "object_fit": null,
            "object_position": null,
            "order": null,
            "overflow": null,
            "overflow_x": null,
            "overflow_y": null,
            "padding": null,
            "right": null,
            "top": null,
            "visibility": null,
            "width": null
          }
        },
        "189e6a62cec34850944bff55cda7103c": {
          "model_module": "@jupyter-widgets/controls",
          "model_name": "DescriptionStyleModel",
          "model_module_version": "1.5.0",
          "state": {
            "_model_module": "@jupyter-widgets/controls",
            "_model_module_version": "1.5.0",
            "_model_name": "DescriptionStyleModel",
            "_view_count": null,
            "_view_module": "@jupyter-widgets/base",
            "_view_module_version": "1.2.0",
            "_view_name": "StyleView",
            "description_width": ""
          }
        },
        "841b1513983e4986afcf740a8a08c9ef": {
          "model_module": "@jupyter-widgets/controls",
          "model_name": "HBoxModel",
          "model_module_version": "1.5.0",
          "state": {
            "_dom_classes": [],
            "_model_module": "@jupyter-widgets/controls",
            "_model_module_version": "1.5.0",
            "_model_name": "HBoxModel",
            "_view_count": null,
            "_view_module": "@jupyter-widgets/controls",
            "_view_module_version": "1.5.0",
            "_view_name": "HBoxView",
            "box_style": "",
            "children": [
              "IPY_MODEL_56c27d9e12964620936a745d468119bc",
              "IPY_MODEL_f051f219aa804b36ac4e4a666835d436",
              "IPY_MODEL_c2ca2c6c1e1343ec9ba08f2be2992296"
            ],
            "layout": "IPY_MODEL_317910088dbc4802bc063a10c64c4cd0"
          }
        },
        "56c27d9e12964620936a745d468119bc": {
          "model_module": "@jupyter-widgets/controls",
          "model_name": "HTMLModel",
          "model_module_version": "1.5.0",
          "state": {
            "_dom_classes": [],
            "_model_module": "@jupyter-widgets/controls",
            "_model_module_version": "1.5.0",
            "_model_name": "HTMLModel",
            "_view_count": null,
            "_view_module": "@jupyter-widgets/controls",
            "_view_module_version": "1.5.0",
            "_view_name": "HTMLView",
            "description": "",
            "description_tooltip": null,
            "layout": "IPY_MODEL_ae6078a7779e4c208fea8bc1b0551d82",
            "placeholder": "​",
            "style": "IPY_MODEL_f7d13ac8689b4d9eb63d76067b88e79b",
            "value": "100%"
          }
        },
        "f051f219aa804b36ac4e4a666835d436": {
          "model_module": "@jupyter-widgets/controls",
          "model_name": "FloatProgressModel",
          "model_module_version": "1.5.0",
          "state": {
            "_dom_classes": [],
            "_model_module": "@jupyter-widgets/controls",
            "_model_module_version": "1.5.0",
            "_model_name": "FloatProgressModel",
            "_view_count": null,
            "_view_module": "@jupyter-widgets/controls",
            "_view_module_version": "1.5.0",
            "_view_name": "ProgressView",
            "bar_style": "success",
            "description": "",
            "description_tooltip": null,
            "layout": "IPY_MODEL_0672fb36715c40dcb0e495208260bec1",
            "max": 244408911,
            "min": 0,
            "orientation": "horizontal",
            "style": "IPY_MODEL_dedac8d6bc0f4e1cabbc2c32f0fe880d",
            "value": 244408911
          }
        },
        "c2ca2c6c1e1343ec9ba08f2be2992296": {
          "model_module": "@jupyter-widgets/controls",
          "model_name": "HTMLModel",
          "model_module_version": "1.5.0",
          "state": {
            "_dom_classes": [],
            "_model_module": "@jupyter-widgets/controls",
            "_model_module_version": "1.5.0",
            "_model_name": "HTMLModel",
            "_view_count": null,
            "_view_module": "@jupyter-widgets/controls",
            "_view_module_version": "1.5.0",
            "_view_name": "HTMLView",
            "description": "",
            "description_tooltip": null,
            "layout": "IPY_MODEL_6e6a255c5ed24fabb9f82cc63c056efb",
            "placeholder": "​",
            "style": "IPY_MODEL_3af3ca8e96874b44bc741db71d17de37",
            "value": " 233M/233M [00:08&lt;00:00, 27.1MB/s]"
          }
        },
        "317910088dbc4802bc063a10c64c4cd0": {
          "model_module": "@jupyter-widgets/base",
          "model_name": "LayoutModel",
          "model_module_version": "1.2.0",
          "state": {
            "_model_module": "@jupyter-widgets/base",
            "_model_module_version": "1.2.0",
            "_model_name": "LayoutModel",
            "_view_count": null,
            "_view_module": "@jupyter-widgets/base",
            "_view_module_version": "1.2.0",
            "_view_name": "LayoutView",
            "align_content": null,
            "align_items": null,
            "align_self": null,
            "border": null,
            "bottom": null,
            "display": null,
            "flex": null,
            "flex_flow": null,
            "grid_area": null,
            "grid_auto_columns": null,
            "grid_auto_flow": null,
            "grid_auto_rows": null,
            "grid_column": null,
            "grid_gap": null,
            "grid_row": null,
            "grid_template_areas": null,
            "grid_template_columns": null,
            "grid_template_rows": null,
            "height": null,
            "justify_content": null,
            "justify_items": null,
            "left": null,
            "margin": null,
            "max_height": null,
            "max_width": null,
            "min_height": null,
            "min_width": null,
            "object_fit": null,
            "object_position": null,
            "order": null,
            "overflow": null,
            "overflow_x": null,
            "overflow_y": null,
            "padding": null,
            "right": null,
            "top": null,
            "visibility": null,
            "width": null
          }
        },
        "ae6078a7779e4c208fea8bc1b0551d82": {
          "model_module": "@jupyter-widgets/base",
          "model_name": "LayoutModel",
          "model_module_version": "1.2.0",
          "state": {
            "_model_module": "@jupyter-widgets/base",
            "_model_module_version": "1.2.0",
            "_model_name": "LayoutModel",
            "_view_count": null,
            "_view_module": "@jupyter-widgets/base",
            "_view_module_version": "1.2.0",
            "_view_name": "LayoutView",
            "align_content": null,
            "align_items": null,
            "align_self": null,
            "border": null,
            "bottom": null,
            "display": null,
            "flex": null,
            "flex_flow": null,
            "grid_area": null,
            "grid_auto_columns": null,
            "grid_auto_flow": null,
            "grid_auto_rows": null,
            "grid_column": null,
            "grid_gap": null,
            "grid_row": null,
            "grid_template_areas": null,
            "grid_template_columns": null,
            "grid_template_rows": null,
            "height": null,
            "justify_content": null,
            "justify_items": null,
            "left": null,
            "margin": null,
            "max_height": null,
            "max_width": null,
            "min_height": null,
            "min_width": null,
            "object_fit": null,
            "object_position": null,
            "order": null,
            "overflow": null,
            "overflow_x": null,
            "overflow_y": null,
            "padding": null,
            "right": null,
            "top": null,
            "visibility": null,
            "width": null
          }
        },
        "f7d13ac8689b4d9eb63d76067b88e79b": {
          "model_module": "@jupyter-widgets/controls",
          "model_name": "DescriptionStyleModel",
          "model_module_version": "1.5.0",
          "state": {
            "_model_module": "@jupyter-widgets/controls",
            "_model_module_version": "1.5.0",
            "_model_name": "DescriptionStyleModel",
            "_view_count": null,
            "_view_module": "@jupyter-widgets/base",
            "_view_module_version": "1.2.0",
            "_view_name": "StyleView",
            "description_width": ""
          }
        },
        "0672fb36715c40dcb0e495208260bec1": {
          "model_module": "@jupyter-widgets/base",
          "model_name": "LayoutModel",
          "model_module_version": "1.2.0",
          "state": {
            "_model_module": "@jupyter-widgets/base",
            "_model_module_version": "1.2.0",
            "_model_name": "LayoutModel",
            "_view_count": null,
            "_view_module": "@jupyter-widgets/base",
            "_view_module_version": "1.2.0",
            "_view_name": "LayoutView",
            "align_content": null,
            "align_items": null,
            "align_self": null,
            "border": null,
            "bottom": null,
            "display": null,
            "flex": null,
            "flex_flow": null,
            "grid_area": null,
            "grid_auto_columns": null,
            "grid_auto_flow": null,
            "grid_auto_rows": null,
            "grid_column": null,
            "grid_gap": null,
            "grid_row": null,
            "grid_template_areas": null,
            "grid_template_columns": null,
            "grid_template_rows": null,
            "height": null,
            "justify_content": null,
            "justify_items": null,
            "left": null,
            "margin": null,
            "max_height": null,
            "max_width": null,
            "min_height": null,
            "min_width": null,
            "object_fit": null,
            "object_position": null,
            "order": null,
            "overflow": null,
            "overflow_x": null,
            "overflow_y": null,
            "padding": null,
            "right": null,
            "top": null,
            "visibility": null,
            "width": null
          }
        },
        "dedac8d6bc0f4e1cabbc2c32f0fe880d": {
          "model_module": "@jupyter-widgets/controls",
          "model_name": "ProgressStyleModel",
          "model_module_version": "1.5.0",
          "state": {
            "_model_module": "@jupyter-widgets/controls",
            "_model_module_version": "1.5.0",
            "_model_name": "ProgressStyleModel",
            "_view_count": null,
            "_view_module": "@jupyter-widgets/base",
            "_view_module_version": "1.2.0",
            "_view_name": "StyleView",
            "bar_color": null,
            "description_width": ""
          }
        },
        "6e6a255c5ed24fabb9f82cc63c056efb": {
          "model_module": "@jupyter-widgets/base",
          "model_name": "LayoutModel",
          "model_module_version": "1.2.0",
          "state": {
            "_model_module": "@jupyter-widgets/base",
            "_model_module_version": "1.2.0",
            "_model_name": "LayoutModel",
            "_view_count": null,
            "_view_module": "@jupyter-widgets/base",
            "_view_module_version": "1.2.0",
            "_view_name": "LayoutView",
            "align_content": null,
            "align_items": null,
            "align_self": null,
            "border": null,
            "bottom": null,
            "display": null,
            "flex": null,
            "flex_flow": null,
            "grid_area": null,
            "grid_auto_columns": null,
            "grid_auto_flow": null,
            "grid_auto_rows": null,
            "grid_column": null,
            "grid_gap": null,
            "grid_row": null,
            "grid_template_areas": null,
            "grid_template_columns": null,
            "grid_template_rows": null,
            "height": null,
            "justify_content": null,
            "justify_items": null,
            "left": null,
            "margin": null,
            "max_height": null,
            "max_width": null,
            "min_height": null,
            "min_width": null,
            "object_fit": null,
            "object_position": null,
            "order": null,
            "overflow": null,
            "overflow_x": null,
            "overflow_y": null,
            "padding": null,
            "right": null,
            "top": null,
            "visibility": null,
            "width": null
          }
        },
        "3af3ca8e96874b44bc741db71d17de37": {
          "model_module": "@jupyter-widgets/controls",
          "model_name": "DescriptionStyleModel",
          "model_module_version": "1.5.0",
          "state": {
            "_model_module": "@jupyter-widgets/controls",
            "_model_module_version": "1.5.0",
            "_model_name": "DescriptionStyleModel",
            "_view_count": null,
            "_view_module": "@jupyter-widgets/base",
            "_view_module_version": "1.2.0",
            "_view_name": "StyleView",
            "description_width": ""
          }
        }
      }
    }
  },
  "cells": [
    {
      "cell_type": "markdown",
      "source": [
        "# CIFAR-10 model fine-tuning"
      ],
      "metadata": {
        "id": "vH4J10Uy35v-"
      }
    },
    {
      "cell_type": "markdown",
      "source": [
        "Network structure:\n",
        "\n",
        "*   AlexNet backbone network\n",
        "*   Custom classification header"
      ],
      "metadata": {
        "id": "B7ZuyQX46bR7"
      }
    },
    {
      "cell_type": "markdown",
      "source": [
        "Building a fine-tuned model for AlexNet using PyTorch since Keras lacks a pre-trained model for AlexNet. Fine-tuning the backbone network, classification header, and classification header separately."
      ],
      "metadata": {
        "id": "d2hWItSD4Lra"
      }
    },
    {
      "cell_type": "code",
      "execution_count": 10,
      "metadata": {
        "id": "dUas-Y9-uZbJ"
      },
      "outputs": [],
      "source": [
        "import torchvision.models as models \n",
        "import torch\n",
        "import torchvision\n",
        "import torchvision.transforms as transforms\n",
        "import torch.nn as nn\n",
        "import torch.optim as optim\n",
        "import torch.nn.functional as F\n",
        "from torchvision.models import alexnet \n",
        "import matplotlib as mpl\n",
        "import matplotlib.pyplot as plt"
      ]
    },
    {
      "cell_type": "markdown",
      "source": [
        "## Data preprocessing "
      ],
      "metadata": {
        "id": "HnytyzvP5IPK"
      }
    },
    {
      "cell_type": "code",
      "source": [
        "transform = transforms.Compose([\n",
        "    transforms.Resize((128, 128)),\n",
        "     transforms.ToTensor(),\n",
        "     transforms.Normalize((0.5, 0.5, 0.5), (0.5, 0.5, 0.5))\n",
        "    ])\n",
        "\n",
        "trainset = torchvision.datasets.CIFAR10(root='./cifar10', train=True, download=True, transform=transform)\n",
        "trainloader = torch.utils.data.DataLoader(trainset, batch_size=100, shuffle=True)\n",
        "\n",
        "testset = torchvision.datasets.CIFAR10(root='./cifar10', train=False, download=True, transform=transform)\n",
        "testloader = torch.utils.data.DataLoader(testset, batch_size=4, shuffle=False)\n",
        "\n",
        "classes = ('plane', 'car', 'bird', 'cat', 'deer', 'dog', 'frog', 'horse', 'ship', 'truck')"
      ],
      "metadata": {
        "colab": {
          "base_uri": "https://localhost:8080/",
          "height": 101,
          "referenced_widgets": [
            "9b96bd43932045f4bf50c983761d9d1d",
            "e6a27967430e439488f616b8b025d1f5",
            "8a9cb4a0e89e4e71acf38e9feb8fcbda",
            "5c2278fb51194cb9a8dd70ee68af9344",
            "0b7d9aaae6a94891aa0c151d20036194",
            "c7eb63ba8de14ceb9cbcee34a6ac9ff5",
            "16e5cfe498194909bb35064b5602d5b9",
            "a2f2cfe743c34f73894eeb424f3d8c1c",
            "4609b208778147049c95d841ad59875c",
            "0bebfd4df1fd49f3820fd41dbda75cee",
            "189e6a62cec34850944bff55cda7103c"
          ]
        },
        "id": "PBlLGXk2ufkZ",
        "outputId": "12893b07-be60-41f2-83a2-cf2351aa600c"
      },
      "execution_count": 3,
      "outputs": [
        {
          "output_type": "stream",
          "name": "stdout",
          "text": [
            "Downloading https://www.cs.toronto.edu/~kriz/cifar-10-python.tar.gz to ./cifar10/cifar-10-python.tar.gz\n"
          ]
        },
        {
          "output_type": "display_data",
          "data": {
            "text/plain": [
              "  0%|          | 0/170498071 [00:00<?, ?it/s]"
            ],
            "application/vnd.jupyter.widget-view+json": {
              "version_major": 2,
              "version_minor": 0,
              "model_id": "9b96bd43932045f4bf50c983761d9d1d"
            }
          },
          "metadata": {}
        },
        {
          "output_type": "stream",
          "name": "stdout",
          "text": [
            "Extracting ./cifar10/cifar-10-python.tar.gz to ./cifar10\n",
            "Files already downloaded and verified\n"
          ]
        }
      ]
    },
    {
      "cell_type": "markdown",
      "source": [
        "The model is divided into three parts:\n",
        "\n",
        "*   features\n",
        "*   avgpool\n",
        "*   classifier"
      ],
      "metadata": {
        "id": "c3fXzIZ26u0g"
      }
    },
    {
      "cell_type": "markdown",
      "source": [
        "## Fine-tuning of AlexNet classification header"
      ],
      "metadata": {
        "id": "4IYnFcXd5hyi"
      }
    },
    {
      "cell_type": "code",
      "source": [
        "Alexnet_model = alexnet(pretrained=True)  \n",
        "\n",
        "for parameters in Alexnet_model.features.parameters():\n",
        "    parameters.requires_grad = False\n",
        "\n",
        "Alexnet_model.classifier._modules['6'] = nn.Linear(4096, 10)\n",
        "\n",
        "for parameters in Alexnet_model.classifier.parameters():\n",
        "    parameters.requires_grad = True\n",
        "if torch.cuda.is_available():\n",
        "    Alexnet_model = Alexnet_model.to('cuda')"
      ],
      "metadata": {
        "colab": {
          "base_uri": "https://localhost:8080/",
          "height": 156,
          "referenced_widgets": [
            "841b1513983e4986afcf740a8a08c9ef",
            "56c27d9e12964620936a745d468119bc",
            "f051f219aa804b36ac4e4a666835d436",
            "c2ca2c6c1e1343ec9ba08f2be2992296",
            "317910088dbc4802bc063a10c64c4cd0",
            "ae6078a7779e4c208fea8bc1b0551d82",
            "f7d13ac8689b4d9eb63d76067b88e79b",
            "0672fb36715c40dcb0e495208260bec1",
            "dedac8d6bc0f4e1cabbc2c32f0fe880d",
            "6e6a255c5ed24fabb9f82cc63c056efb",
            "3af3ca8e96874b44bc741db71d17de37"
          ]
        },
        "id": "dDClWvyFwKr2",
        "outputId": "a8624d34-5360-48c9-ae42-a77480128fda"
      },
      "execution_count": 4,
      "outputs": [
        {
          "output_type": "stream",
          "name": "stderr",
          "text": [
            "/usr/local/lib/python3.9/dist-packages/torchvision/models/_utils.py:208: UserWarning: The parameter 'pretrained' is deprecated since 0.13 and may be removed in the future, please use 'weights' instead.\n",
            "  warnings.warn(\n",
            "/usr/local/lib/python3.9/dist-packages/torchvision/models/_utils.py:223: UserWarning: Arguments other than a weight enum or `None` for 'weights' are deprecated since 0.13 and may be removed in the future. The current behavior is equivalent to passing `weights=AlexNet_Weights.IMAGENET1K_V1`. You can also use `weights=AlexNet_Weights.DEFAULT` to get the most up-to-date weights.\n",
            "  warnings.warn(msg)\n",
            "Downloading: \"https://download.pytorch.org/models/alexnet-owt-7be5be79.pth\" to /root/.cache/torch/hub/checkpoints/alexnet-owt-7be5be79.pth\n"
          ]
        },
        {
          "output_type": "display_data",
          "data": {
            "text/plain": [
              "  0%|          | 0.00/233M [00:00<?, ?B/s]"
            ],
            "application/vnd.jupyter.widget-view+json": {
              "version_major": 2,
              "version_minor": 0,
              "model_id": "841b1513983e4986afcf740a8a08c9ef"
            }
          },
          "metadata": {}
        }
      ]
    },
    {
      "cell_type": "code",
      "source": [
        "print('alexnet:')\n",
        "print(Alexnet_model)"
      ],
      "metadata": {
        "colab": {
          "base_uri": "https://localhost:8080/"
        },
        "id": "MCSZorHewNkK",
        "outputId": "3a5f8094-ae32-4689-8779-4cd63d54c596"
      },
      "execution_count": 5,
      "outputs": [
        {
          "output_type": "stream",
          "name": "stdout",
          "text": [
            "alexnet:\n",
            "AlexNet(\n",
            "  (features): Sequential(\n",
            "    (0): Conv2d(3, 64, kernel_size=(11, 11), stride=(4, 4), padding=(2, 2))\n",
            "    (1): ReLU(inplace=True)\n",
            "    (2): MaxPool2d(kernel_size=3, stride=2, padding=0, dilation=1, ceil_mode=False)\n",
            "    (3): Conv2d(64, 192, kernel_size=(5, 5), stride=(1, 1), padding=(2, 2))\n",
            "    (4): ReLU(inplace=True)\n",
            "    (5): MaxPool2d(kernel_size=3, stride=2, padding=0, dilation=1, ceil_mode=False)\n",
            "    (6): Conv2d(192, 384, kernel_size=(3, 3), stride=(1, 1), padding=(1, 1))\n",
            "    (7): ReLU(inplace=True)\n",
            "    (8): Conv2d(384, 256, kernel_size=(3, 3), stride=(1, 1), padding=(1, 1))\n",
            "    (9): ReLU(inplace=True)\n",
            "    (10): Conv2d(256, 256, kernel_size=(3, 3), stride=(1, 1), padding=(1, 1))\n",
            "    (11): ReLU(inplace=True)\n",
            "    (12): MaxPool2d(kernel_size=3, stride=2, padding=0, dilation=1, ceil_mode=False)\n",
            "  )\n",
            "  (avgpool): AdaptiveAvgPool2d(output_size=(6, 6))\n",
            "  (classifier): Sequential(\n",
            "    (0): Dropout(p=0.5, inplace=False)\n",
            "    (1): Linear(in_features=9216, out_features=4096, bias=True)\n",
            "    (2): ReLU(inplace=True)\n",
            "    (3): Dropout(p=0.5, inplace=False)\n",
            "    (4): Linear(in_features=4096, out_features=4096, bias=True)\n",
            "    (5): ReLU(inplace=True)\n",
            "    (6): Linear(in_features=4096, out_features=10, bias=True)\n",
            "  )\n",
            ")\n"
          ]
        }
      ]
    },
    {
      "cell_type": "code",
      "source": [
        "params = [p for p in Alexnet_model.parameters() if p.requires_grad]\n",
        "optimizer = torch.optim.Adam(params,lr=0.001) \n",
        "loss_fn = nn.CrossEntropyLoss().to('cuda')"
      ],
      "metadata": {
        "id": "M9Tx0sPowP8K"
      },
      "execution_count": 6,
      "outputs": []
    },
    {
      "cell_type": "code",
      "source": [
        "def model_fit(epoch, model, trainloader, testloader):\n",
        "    for x_train, y_train in trainloader:\n",
        "        if torch.cuda.is_available():\n",
        "            x_train, y_train = x_train.to('cuda'), y_train.to('cuda')\n",
        "            \n",
        "        y_pred = model(x_train)\n",
        "        loss = loss_fn(y_pred, y_train)\n",
        "        optimizer.zero_grad()\n",
        "        loss.backward()\n",
        "        optimizer.step()\n",
        "        \n",
        "        correct = 0 \n",
        "        samples_num = 0 \n",
        "        epoch_loss_sum = 0  \n",
        "        with torch.no_grad():  \n",
        "            y_pred = torch.argmax(y_pred, dim=1)\n",
        "            correct += (y_pred == y_train).sum().item()\n",
        "            samples_num += y_train.size(0)\n",
        "            epoch_loss_sum += loss.item()\n",
        "           \n",
        "    \n",
        "    epoch_loss = epoch_loss_sum / len(trainloader.dataset)\n",
        "    epoch_acc = correct / samples_num\n",
        " \n",
        "    \n",
        "    test_correct = 0\n",
        "    test_samples_num = 0\n",
        "    test_loss_sum = 0\n",
        "    model.eval()  \n",
        "    with torch.no_grad():\n",
        "        for x_test, y_test in testloader:\n",
        "            if torch.cuda.is_available():\n",
        "                x_test, y_test = x_test.to('cuda'), y_test.to('cuda')\n",
        "            y_pred = model(x_test)\n",
        "            loss = loss_fn(y_pred, y_test)\n",
        "            y_pred = torch.argmax(y_pred, dim=1)\n",
        "            test_correct += (y_pred == y_test).sum().item()\n",
        "            test_samples_num += y_test.size(0)\n",
        "            test_loss_sum += loss.item()\n",
        " \n",
        "    epoch_test_loss = test_loss_sum / len(testloader.dataset)\n",
        "    epoch_test_acc = test_correct / test_samples_num\n",
        " \n",
        "    print('epoch: ', epoch,\n",
        "          'train loss： ', round(epoch_loss, 3),\n",
        "          'train accuracy:', round(epoch_acc, 3),\n",
        "          'test loss： ', round(epoch_test_loss, 3),\n",
        "          'test accuracy:', round(epoch_test_acc, 3)\n",
        "          )\n",
        " \n",
        "    return epoch_loss, epoch_acc, epoch_test_loss, epoch_test_acc"
      ],
      "metadata": {
        "id": "qPyPl4aiwSOO"
      },
      "execution_count": 7,
      "outputs": []
    },
    {
      "cell_type": "code",
      "source": [
        "epochs = 15\n",
        "train_loss = []\n",
        "train_acc = []\n",
        "test_loss = []\n",
        "test_acc = []\n",
        "Alexnet_model = Alexnet_model.to('cuda')\n",
        "for epoch in range(1, epochs + 1):\n",
        "    epoch_loss, epoch_acc, epoch_test_loss, epoch_test_acc = model_fit(epoch,\n",
        "                                                                  Alexnet_model,\n",
        "                                                                  trainloader,\n",
        "                                                                  testloader)\n",
        "    train_loss.append(epoch_loss)\n",
        "    train_acc.append(epoch_acc)\n",
        "    test_loss.append(epoch_test_loss)\n",
        "    test_acc.append(epoch_test_acc)"
      ],
      "metadata": {
        "colab": {
          "base_uri": "https://localhost:8080/"
        },
        "id": "Zn3V-ldPwV5t",
        "outputId": "03bef8ad-4a97-4789-84d2-103c43dc302a"
      },
      "execution_count": 8,
      "outputs": [
        {
          "output_type": "stream",
          "name": "stdout",
          "text": [
            "epoch:  1 train loss：  0.0 train accuracy: 0.69 test loss：  0.163 test accuracy: 0.776\n",
            "epoch:  2 train loss：  0.0 train accuracy: 0.83 test loss：  0.147 test accuracy: 0.796\n",
            "epoch:  3 train loss：  0.0 train accuracy: 0.86 test loss：  0.146 test accuracy: 0.799\n",
            "epoch:  4 train loss：  0.0 train accuracy: 0.92 test loss：  0.163 test accuracy: 0.796\n",
            "epoch:  5 train loss：  0.0 train accuracy: 0.94 test loss：  0.159 test accuracy: 0.81\n",
            "epoch:  6 train loss：  0.0 train accuracy: 0.91 test loss：  0.177 test accuracy: 0.805\n",
            "epoch:  7 train loss：  0.0 train accuracy: 0.9 test loss：  0.194 test accuracy: 0.812\n",
            "epoch:  8 train loss：  0.0 train accuracy: 0.93 test loss：  0.246 test accuracy: 0.792\n",
            "epoch:  9 train loss：  0.0 train accuracy: 0.92 test loss：  0.293 test accuracy: 0.788\n",
            "epoch:  10 train loss：  0.0 train accuracy: 0.96 test loss：  0.238 test accuracy: 0.812\n",
            "epoch:  11 train loss：  0.0 train accuracy: 0.99 test loss：  0.264 test accuracy: 0.817\n",
            "epoch:  12 train loss：  0.0 train accuracy: 0.95 test loss：  0.309 test accuracy: 0.802\n",
            "epoch:  13 train loss：  0.0 train accuracy: 0.97 test loss：  0.304 test accuracy: 0.807\n",
            "epoch:  14 train loss：  0.0 train accuracy: 0.96 test loss：  0.32 test accuracy: 0.807\n",
            "epoch:  15 train loss：  0.0 train accuracy: 1.0 test loss：  0.36 test accuracy: 0.807\n"
          ]
        }
      ]
    },
    {
      "cell_type": "code",
      "source": [
        "fig, axs = plt.subplots(1, 2)\n",
        "axs[0].set_title('train loss')\n",
        "axs[0].set_xlabel('epoch')\n",
        "axs[0].set_ylabel('CE loss')\n",
        "axs[0].grid(True)\n",
        "axs[0].plot(train_loss, label='train loss')\n",
        "axs[0].legend()\n",
        "axs[1].set_title('test loss')\n",
        "axs[1].set_xlabel('epoch')\n",
        "axs[1].set_ylabel('CE loss')\n",
        "axs[1].grid(True)\n",
        "axs[1].plot(test_loss, label='train loss')\n",
        "axs[1].legend()"
      ],
      "metadata": {
        "colab": {
          "base_uri": "https://localhost:8080/",
          "height": 489
        },
        "id": "4ia8LB0uw74i",
        "outputId": "77cca735-93ed-4fb3-a64a-8c69988b4497"
      },
      "execution_count": 11,
      "outputs": [
        {
          "output_type": "execute_result",
          "data": {
            "text/plain": [
              "<matplotlib.legend.Legend at 0x7f5152de8fd0>"
            ]
          },
          "metadata": {},
          "execution_count": 11
        },
        {
          "output_type": "display_data",
          "data": {
            "text/plain": [
              "<Figure size 640x480 with 2 Axes>"
            ],
            "image/png": "[encoded data removed]"
          },
          "metadata": {}
        }
      ]
    },
    {
      "cell_type": "markdown",
      "source": [
        "The test loss indicates that after the second epoch, there was a noticeable increase, indicating the occurrence of overfitting. Although the test accuracy remained relatively constant."
      ],
      "metadata": {
        "id": "BeIPsY417Bvl"
      }
    },
    {
      "cell_type": "code",
      "source": [
        "plt.figure(2)\n",
        "plt.title('Accuracy')\n",
        "plt.xlabel('epoch')\n",
        "plt.ylabel('acc')\n",
        "plt.grid(True)\n",
        "plt.plot(train_acc, label='train acc')\n",
        "plt.plot(test_acc, label='test acc')\n",
        "plt.legend()"
      ],
      "metadata": {
        "colab": {
          "base_uri": "https://localhost:8080/",
          "height": 489
        },
        "id": "CSi_I1O5wYZ2",
        "outputId": "4fd0efbc-a2d9-490c-ff04-60e0fc65c3da"
      },
      "execution_count": 12,
      "outputs": [
        {
          "output_type": "execute_result",
          "data": {
            "text/plain": [
              "<matplotlib.legend.Legend at 0x7f5149262910>"
            ]
          },
          "metadata": {},
          "execution_count": 12
        },
        {
          "output_type": "display_data",
          "data": {
            "text/plain": [
              "<Figure size 640x480 with 1 Axes>"
            ],
            "image/png": "[encoded data removed]"
          },
          "metadata": {}
        }
      ]
    },
    {
      "cell_type": "markdown",
      "source": [
        "## Fine-tuning the backbone network and classification header"
      ],
      "metadata": {
        "id": "bbKbw1jB6D_j"
      }
    },
    {
      "cell_type": "markdown",
      "source": [
        "Building the network without freezing the feature layer"
      ],
      "metadata": {
        "id": "mvJIrFx_7JJu"
      }
    },
    {
      "cell_type": "code",
      "source": [
        "Alexnet_model_2 = alexnet(pretrained=True)  \n",
        "\n",
        "Alexnet_model_2.classifier._modules['6'] = nn.Linear(4096, 10)\n",
        "\n",
        "for parameters in Alexnet_model_2.classifier.parameters():\n",
        "    parameters.requires_grad = True\n",
        "if torch.cuda.is_available():\n",
        "    Alexnet_model_2 = Alexnet_model_2.to('cuda')"
      ],
      "metadata": {
        "id": "5CKCUVMWxDz7"
      },
      "execution_count": 13,
      "outputs": []
    },
    {
      "cell_type": "code",
      "source": [
        "params = [p for p in Alexnet_model_2.parameters() if p.requires_grad]\n",
        "optimizer = torch.optim.Adam(params,lr=0.001) \n",
        "loss_fn = nn.CrossEntropyLoss().to('cuda') "
      ],
      "metadata": {
        "id": "CK7oDBEtxIMS"
      },
      "execution_count": 14,
      "outputs": []
    },
    {
      "cell_type": "code",
      "source": [
        "def model_fit(epoch, model, trainloader, testloader):\n",
        "    for x_train, y_train in trainloader:\n",
        "        if torch.cuda.is_available():\n",
        "            x_train, y_train = x_train.to('cuda'), y_train.to('cuda')\n",
        "            \n",
        "        y_pred = model(x_train)\n",
        "        loss = loss_fn(y_pred, y_train)\n",
        "        optimizer.zero_grad()\n",
        "        loss.backward()\n",
        "        optimizer.step()\n",
        "        \n",
        "        correct = 0 \n",
        "        samples_num = 0 \n",
        "        epoch_loss_sum = 0 \n",
        "        with torch.no_grad(): \n",
        "            y_pred = torch.argmax(y_pred, dim=1)\n",
        "            correct += (y_pred == y_train).sum().item()\n",
        "            samples_num += y_train.size(0)\n",
        "            epoch_loss_sum += loss.item()\n",
        "           \n",
        "    epoch_loss = epoch_loss_sum / len(trainloader.dataset)\n",
        "    epoch_acc = correct / samples_num\n",
        " \n",
        "    test_correct = 0\n",
        "    test_samples_num = 0\n",
        "    test_loss_sum = 0\n",
        "    model.eval()  \n",
        "    with torch.no_grad():\n",
        "        for x_test, y_test in testloader:\n",
        "            if torch.cuda.is_available():\n",
        "                x_test, y_test = x_test.to('cuda'), y_test.to('cuda')\n",
        "            y_pred = model(x_test)\n",
        "            loss = loss_fn(y_pred, y_test)\n",
        "            y_pred = torch.argmax(y_pred, dim=1) \n",
        "            test_correct += (y_pred == y_test).sum().item()\n",
        "            test_samples_num += y_test.size(0)\n",
        "            test_loss_sum += loss.item()\n",
        " \n",
        "    epoch_test_loss = test_loss_sum / len(testloader.dataset)\n",
        "    epoch_test_acc = test_correct / test_samples_num\n",
        " \n",
        "    print('epoch: ', epoch,\n",
        "          'train loss： ', round(epoch_loss, 3),\n",
        "          'train accuracy:', round(epoch_acc, 3),\n",
        "          'test loss： ', round(epoch_test_loss, 3),\n",
        "          'test accuracy:', round(epoch_test_acc, 3)\n",
        "          )\n",
        " \n",
        "    return epoch_loss, epoch_acc, epoch_test_loss, epoch_test_acc"
      ],
      "metadata": {
        "id": "ZIe4lRlhxIyS"
      },
      "execution_count": 15,
      "outputs": []
    },
    {
      "cell_type": "code",
      "source": [
        "epochs = 15\n",
        "train_loss_2 = []\n",
        "train_acc_2 = []\n",
        "test_loss_2 = []\n",
        "test_acc_2 = []\n",
        "Alexnet_model_2 = Alexnet_model_2.to('cuda')\n",
        "for epoch in range(1, epochs + 1):\n",
        "    epoch_loss, epoch_acc, epoch_test_loss, epoch_test_acc = model_fit(epoch,\n",
        "                                                                  Alexnet_model_2,\n",
        "                                                                  trainloader,\n",
        "                                                                  testloader)\n",
        "    train_loss_2.append(epoch_loss)\n",
        "    train_acc_2.append(epoch_acc)\n",
        "    test_loss_2.append(epoch_test_loss)\n",
        "    test_acc_2.append(epoch_test_acc)"
      ],
      "metadata": {
        "colab": {
          "base_uri": "https://localhost:8080/"
        },
        "id": "Ve8drSS0xNt9",
        "outputId": "97be96d3-4919-434c-cc0b-8b14fe6ff014"
      },
      "execution_count": 16,
      "outputs": [
        {
          "output_type": "stream",
          "name": "stdout",
          "text": [
            "epoch:  1 train loss：  0.0 train accuracy: 0.6 test loss：  0.244 test accuracy: 0.664\n",
            "epoch:  2 train loss：  0.0 train accuracy: 0.77 test loss：  0.185 test accuracy: 0.747\n",
            "epoch:  3 train loss：  0.0 train accuracy: 0.82 test loss：  0.172 test accuracy: 0.768\n",
            "epoch:  4 train loss：  0.0 train accuracy: 0.87 test loss：  0.178 test accuracy: 0.765\n",
            "epoch:  5 train loss：  0.0 train accuracy: 0.87 test loss：  0.186 test accuracy: 0.781\n",
            "epoch:  6 train loss：  0.0 train accuracy: 0.83 test loss：  0.168 test accuracy: 0.793\n",
            "epoch:  7 train loss：  0.0 train accuracy: 0.85 test loss：  0.167 test accuracy: 0.788\n",
            "epoch:  8 train loss：  0.0 train accuracy: 0.9 test loss：  0.182 test accuracy: 0.802\n",
            "epoch:  9 train loss：  0.0 train accuracy: 0.87 test loss：  0.201 test accuracy: 0.775\n",
            "epoch:  10 train loss：  0.0 train accuracy: 0.92 test loss：  0.209 test accuracy: 0.788\n",
            "epoch:  11 train loss：  0.0 train accuracy: 0.88 test loss：  0.203 test accuracy: 0.808\n",
            "epoch:  12 train loss：  0.0 train accuracy: 0.9 test loss：  0.21 test accuracy: 0.803\n",
            "epoch:  13 train loss：  0.0 train accuracy: 0.93 test loss：  0.206 test accuracy: 0.795\n",
            "epoch:  14 train loss：  0.0 train accuracy: 0.93 test loss：  0.222 test accuracy: 0.805\n",
            "epoch:  15 train loss：  0.0 train accuracy: 0.92 test loss：  0.227 test accuracy: 0.791\n"
          ]
        }
      ]
    },
    {
      "cell_type": "code",
      "source": [
        "fig, axs = plt.subplots(1, 2)\n",
        "axs[0].set_title('train loss')\n",
        "axs[0].set_xlabel('epoch')\n",
        "axs[0].set_ylabel('CE loss')\n",
        "axs[0].grid(True)\n",
        "axs[0].plot(train_loss_2, label='train loss')\n",
        "axs[0].legend()\n",
        "axs[1].set_title('test loss')\n",
        "axs[1].set_xlabel('epoch')\n",
        "axs[1].set_ylabel('CE loss')\n",
        "axs[1].grid(True)\n",
        "axs[1].plot(test_loss_2, label='train loss')\n",
        "axs[1].legend()"
      ],
      "metadata": {
        "colab": {
          "base_uri": "https://localhost:8080/",
          "height": 489
        },
        "id": "xPbqBHq2xQDu",
        "outputId": "68a8a3a2-e3ed-4928-dd0e-0538ac70da9a"
      },
      "execution_count": 17,
      "outputs": [
        {
          "output_type": "execute_result",
          "data": {
            "text/plain": [
              "<matplotlib.legend.Legend at 0x7f51488553d0>"
            ]
          },
          "metadata": {},
          "execution_count": 17
        },
        {
          "output_type": "display_data",
          "data": {
            "text/plain": [
              "<Figure size 640x480 with 2 Axes>"
            ],
            "image/png": "[encoded data removed]"
          },
          "metadata": {}
        }
      ]
    },
    {
      "cell_type": "code",
      "source": [
        "plt.figure(2)\n",
        "plt.title('Accuracy')\n",
        "plt.xlabel('epoch')\n",
        "plt.ylabel('acc')\n",
        "plt.grid(True)\n",
        "plt.plot(train_acc_2, label='train acc')\n",
        "plt.plot(test_acc_2, label='test acc')\n",
        "plt.legend()"
      ],
      "metadata": {
        "colab": {
          "base_uri": "https://localhost:8080/",
          "height": 489
        },
        "id": "c73E2prMxSVg",
        "outputId": "3e0471d5-4c00-49ec-aea0-3436d3e19b79"
      },
      "execution_count": 18,
      "outputs": [
        {
          "output_type": "execute_result",
          "data": {
            "text/plain": [
              "<matplotlib.legend.Legend at 0x7f51488f5eb0>"
            ]
          },
          "metadata": {},
          "execution_count": 18
        },
        {
          "output_type": "display_data",
          "data": {
            "text/plain": [
              "<Figure size 640x480 with 1 Axes>"
            ],
            "image/png": "[encoded data removed]"
          },
          "metadata": {}
        }
      ]
    },
    {
      "cell_type": "markdown",
      "source": [
        "It is evident that the fine-tuned AlexNet model performs significantly better than the one we implemented in class."
      ],
      "metadata": {
        "id": "ltlxY2Ff7aJk"
      }
    }
  ]
}